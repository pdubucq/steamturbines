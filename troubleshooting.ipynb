{
 "cells": [
  {
   "cell_type": "code",
   "execution_count": 16,
   "metadata": {},
   "outputs": [
    {
     "name": "stdout",
     "output_type": "stream",
     "text": [
      "C:\\Users\\acf10\\AppData\\Roaming\\..\\Local\\Continuum\\miniconda3\\envs\\steamturbines\\Lib\\site-packages\\PuLP-1.6.8-py3.6.egg-info\n",
      "C:\\Users\\acf10\\AppData\\Roaming\\..\\Local\\Continuum\\miniconda3\\pkgs\\pulp-1.6.8-py36_1000\\Lib\\site-packages\\PuLP-1.6.8-py3.6.egg-info\n"
     ]
    }
   ],
   "source": [
    "import os\n",
    "from pathlib import Path\n",
    "suspected_anaconda_path = Path(os.environ[\"appdata\"] + \"/../Local/Continuum/\")\n",
    "                       \n",
    "if not suspected_anaconda_path.exists():\n",
    "    raise ValueError(f\"Anaconda base directory not found in {suspected_anaconda_path}\")\n",
    "    \n",
    "    \n",
    "for p in suspected_anaconda_path.glob(\"**/*pulp*.egg-info\"):\n",
    "    print(p)\n"
   ]
  },
  {
   "cell_type": "markdown",
   "metadata": {},
   "source": [
    "If the above cell prints a path to an egg-info file, then pulp is probably installed correctly and its just a matter of the python interpreter not finding it. This happened a few times in RZ @ tuhh. In this case copy the path from above in the cell below"
   ]
  },
  {
   "cell_type": "code",
   "execution_count": 19,
   "metadata": {},
   "outputs": [],
   "source": [
    "p = r\"C:\\Users\\acf10\\AppData\\Roaming\\..\\Local\\Continuum\\miniconda3\\envs\\steamturbines\\Lib\\site-packages\\PuLP-1.6.8-py3.6.egg-info\"\n",
    "import sys\n",
    "sys.path.append(p)\n",
    "\n",
    "import pulp"
   ]
  }
 ],
 "metadata": {
  "kernelspec": {
   "display_name": "Python 3",
   "language": "python",
   "name": "python3"
  },
  "language_info": {
   "codemirror_mode": {
    "name": "ipython",
    "version": 3
   },
   "file_extension": ".py",
   "mimetype": "text/x-python",
   "name": "python",
   "nbconvert_exporter": "python",
   "pygments_lexer": "ipython3",
   "version": "3.6.3"
  }
 },
 "nbformat": 4,
 "nbformat_minor": 4
}
