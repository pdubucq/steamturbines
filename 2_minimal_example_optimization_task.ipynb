{
 "cells": [
  {
   "cell_type": "markdown",
   "metadata": {
    "slideshow": {
     "slide_type": "notes"
    }
   },
   "source": [
    "# Minimal Example Numerical Unit Commitment Optimization\n",
    "\n",
    "The energy system modeled in this notebook consists of three units used to cover an electric load. Only one timestep (i.e. load) is\n",
    "considered. The units are described by a minimal power, a maximum power and linear production cost.\n",
    "\n",
    "## Tasks\n",
    "    \n",
    "Complete the code by taking the following steps:\n",
    "    \n",
    "    1. Analyze and try to understand what happens in the code now. To do this execute single cells one by one. \n",
    "       \n",
    "    2. Define binary variables (integer with boundaries [0,1] to model the\n",
    "       operating state.\n",
    "    \n",
    "    3. Add the constant part of the fuel cost to the objective function so that the cost is modeled as C = a + b * P. The constant costs for the three units are: 7.9 / 7.85 / 9.56 EUR/h.\n",
    "\n",
    "    4. Define the restriction of minimal power (P > Pmin * z)\n",
    "    \n",
    "    5. Compare with the solution file (3_minimal_example_optimization_solution.ipynb)    "
   ]
  },
  {
   "cell_type": "code",
   "execution_count": 3,
   "metadata": {
    "slideshow": {
     "slide_type": "fragment"
    }
   },
   "outputs": [],
   "source": [
    "# Import of the library PuLP\n",
    "\n",
    "from pulp import LpProblem, LpMinimize, LpVariable, LpInteger, LpStatus, value\n"
   ]
  },
  {
   "cell_type": "code",
   "execution_count": 4,
   "metadata": {
    "slideshow": {
     "slide_type": "slide"
    }
   },
   "outputs": [
    {
     "name": "stdout",
     "output_type": "stream",
     "text": [
      "Unit Commitment Sandbox Problem:\n",
      "MINIMIZE\n",
      "60*P1 + 25*P2 + 35*P3 + 0\n",
      "SUBJECT TO\n",
      "Load_constraint: P1 + P2 + P3 = 500\n",
      "\n",
      "VARIABLES\n",
      "P1 <= 100 Continuous\n",
      "P2 <= 400 Continuous\n",
      "P3 <= 1000 Continuous\n",
      "\n"
     ]
    }
   ],
   "source": [
    "# Problem definition\n",
    "prob = LpProblem(\"Unit Commitment Sandbox Problem\",LpMinimize)\n",
    "\n",
    "# Definition of decision variables and their bounds\n",
    "P1=LpVariable(\"P1\", 0, 100)\n",
    "P2=LpVariable(\"P2\", 0, 400)\n",
    "P3=LpVariable(\"P3\", 0, 1000)\n",
    "\n",
    "''' Todo Task2: \n",
    "\n",
    "To model the minimum power condition you need binary variables:\n",
    "If the block is offline (z=0) the power must be zero, if it is\n",
    "online (z=1) it cant be below minimum power limit.\n",
    "\n",
    " Definition of Integer variables in Pulp:\n",
    "\n",
    "     z1 = LpVariable(\"z1\", 0, 1, LpInteger)\n",
    "\n",
    " '''\n",
    "\n",
    "# Defintion of objective function that is to be minimized (cost function)\n",
    "prob += 60*P1 + 25*P2 + 35*P3, \"Linear Production Cost\"\n",
    "\n",
    "# Constraint that the sum of production must be the load (here 500 MW)\n",
    "prob += P1 + P2 + P3 == 500, \"Load constraint\"\n",
    "\n",
    "# Print what we have defined\n",
    "print(prob)"
   ]
  },
  {
   "cell_type": "code",
   "execution_count": 5,
   "metadata": {
    "slideshow": {
     "slide_type": "slide"
    }
   },
   "outputs": [
    {
     "name": "stdout",
     "output_type": "stream",
     "text": [
      "Solution status: Optimal \n",
      "\n",
      "P1 = 0.0\n",
      "P2 = 400.0\n",
      "P3 = 100.0\n",
      "\n",
      "OBJECTIVE VALUE\n",
      "13500 EUR\n"
     ]
    }
   ],
   "source": [
    "# Solve the problem\n",
    "prob.solve()\n",
    "\n",
    "print(\"Solution status:\", LpStatus[prob.status], \"\\n\")\n",
    "\n",
    "# Go through the variables and print name and solution value\n",
    "for v in prob.variables():\n",
    "    print(v.name, '=', v.varValue)\n",
    "    \n",
    "print(f'\\nOBJECTIVE VALUE\\n{prob.objective.value():.0f} EUR')"
   ]
  },
  {
   "cell_type": "code",
   "execution_count": 6,
   "metadata": {
    "slideshow": {
     "slide_type": "slide"
    }
   },
   "outputs": [],
   "source": [
    "# Use this cell to try out stuff!\n"
   ]
  }
 ],
 "metadata": {
  "celltoolbar": "Slideshow",
  "kernelspec": {
   "display_name": "Python 3",
   "language": "python",
   "name": "python3"
  },
  "language_info": {
   "codemirror_mode": {
    "name": "ipython",
    "version": 3
   },
   "file_extension": ".py",
   "mimetype": "text/x-python",
   "name": "python",
   "nbconvert_exporter": "python",
   "pygments_lexer": "ipython3",
   "version": "3.6.3"
  }
 },
 "nbformat": 4,
 "nbformat_minor": 2
}
