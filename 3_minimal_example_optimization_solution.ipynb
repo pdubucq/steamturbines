{
 "cells": [
  {
   "cell_type": "markdown",
   "metadata": {
    "slideshow": {
     "slide_type": "notes"
    }
   },
   "source": [
    "# Minimal Example Numerical Unit Commitment Optimization\n",
    "\n",
    "The energy system modeled in this notebook consists of three units used to cover an electric load. Only one timestep (i.e. load) is\n",
    "considered. The units are described by a minimal power, a maximum power and linear production cost.\n"
   ]
  },
  {
   "cell_type": "code",
   "execution_count": 19,
   "metadata": {
    "slideshow": {
     "slide_type": "fragment"
    }
   },
   "outputs": [],
   "source": [
    "# Import of the library PuLP\n",
    "\n",
    "from pulp import LpProblem, LpMinimize, LpVariable, LpInteger, LpStatus, value\n"
   ]
  },
  {
   "cell_type": "code",
   "execution_count": 22,
   "metadata": {
    "slideshow": {
     "slide_type": "slide"
    }
   },
   "outputs": [
    {
     "name": "stdout",
     "output_type": "stream",
     "text": [
      "Unit Commitment Sandbox Problem:\n",
      "MINIMIZE\n",
      "67.9*P1 + 32.85*P2 + 44.56*P3 + 0.0\n",
      "SUBJECT TO\n",
      "Min_Power_Block_1: P1 - 250 z1 >= 0\n",
      "\n",
      "Min_Power_Block_2: P2 - 200 z2 >= 0\n",
      "\n",
      "Min_Power_Block_3: P3 - 150 z3 >= 0\n",
      "\n",
      "Max_Power_Block_1: P1 - 100 z1 <= 0\n",
      "\n",
      "Max_Power_Block_2: P2 - 400 z2 <= 0\n",
      "\n",
      "Max_Power_Block_3: P3 - 1000 z3 <= 0\n",
      "\n",
      "Load_constraint: P1 + P2 + P3 = 500\n",
      "\n",
      "VARIABLES\n",
      "P1 <= 100 Continuous\n",
      "P2 <= 400 Continuous\n",
      "P3 <= 1000 Continuous\n",
      "0 <= z1 <= 1 Integer\n",
      "0 <= z2 <= 1 Integer\n",
      "0 <= z3 <= 1 Integer\n",
      "\n"
     ]
    }
   ],
   "source": [
    "# Problem definition\n",
    "prob = LpProblem(\"Unit Commitment Sandbox Problem\",LpMinimize)\n",
    "\n",
    "# Definition of decision variables and their bounds\n",
    "P1=LpVariable(\"P1\", 0, 100)\n",
    "P2=LpVariable(\"P2\", 0, 400)\n",
    "P3=LpVariable(\"P3\", 0, 1000)\n",
    "\n",
    "z1 = LpVariable(\"z1\", 0, 1, LpInteger)\n",
    "z2 = LpVariable(\"z2\", 0, 1, LpInteger)\n",
    "z3 = LpVariable(\"z3\", 0, 1, LpInteger)\n",
    "\n",
    "# Defintion of objective function that is to be minimized (cost function)\n",
    "prob += 60*P1 + 25*P2 + 35*P3 + 7.9*P1 + 7.85*P2 + 9.56*P3, \"Linear Production Cost\"\n",
    "\n",
    "# Minimum Power Constraints\n",
    "prob += P1 >= z1*250, \"Min Power Block 1\"\n",
    "prob += P2 >= z2*200, \"Min Power Block 2\"\n",
    "prob += P3 >= z3*150, \"Min Power Block 3\"\n",
    "\n",
    "# Maximum power constraints\n",
    "prob += P1 <= z1*100, \"Max Power Block 1\"\n",
    "prob += P2 <= z2*400, \"Max Power Block 2\"\n",
    "prob += P3 <= z3*1000, \"Max Power Block 3\"\n",
    "\n",
    "# Constraint that the sum of production must be the load (here 500 MW)\n",
    "prob += P1 + P2 + P3 == 500, \"Load constraint\"\n",
    "\n",
    "# Print what we have defined\n",
    "print(prob)"
   ]
  },
  {
   "cell_type": "code",
   "execution_count": 23,
   "metadata": {
    "slideshow": {
     "slide_type": "slide"
    }
   },
   "outputs": [
    {
     "name": "stdout",
     "output_type": "stream",
     "text": [
      "Solution status: Optimal \n",
      "\n",
      "P1 = 0.0\n",
      "P2 = 350.0\n",
      "P3 = 150.0\n",
      "z1 = 0.0\n",
      "z2 = 1.0\n",
      "z3 = 1.0\n",
      "\n",
      "OBJECTIVE VALUE\n",
      "18182 EUR\n"
     ]
    }
   ],
   "source": [
    "# Solve the problem\n",
    "prob.solve()\n",
    "\n",
    "print(\"Solution status:\", LpStatus[prob.status], \"\\n\")\n",
    "\n",
    "# Go through the variables and print name and solution value\n",
    "for v in prob.variables():\n",
    "    print(v.name, '=', v.varValue)\n",
    "    \n",
    "print(f'\\nOBJECTIVE VALUE\\n{prob.objective.value():.0f} EUR')"
   ]
  }
 ],
 "metadata": {
  "celltoolbar": "Slideshow",
  "kernelspec": {
   "display_name": "Python 3",
   "language": "python",
   "name": "python3"
  },
  "language_info": {
   "codemirror_mode": {
    "name": "ipython",
    "version": 3
   },
   "file_extension": ".py",
   "mimetype": "text/x-python",
   "name": "python",
   "nbconvert_exporter": "python",
   "pygments_lexer": "ipython3",
   "version": "3.6.3"
  }
 },
 "nbformat": 4,
 "nbformat_minor": 2
}
